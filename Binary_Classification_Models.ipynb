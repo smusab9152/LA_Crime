{
 "cells": [
  {
   "cell_type": "code",
   "execution_count": 7,
   "id": "254149db-d92b-4422-9666-68573ad7b0f6",
   "metadata": {},
   "outputs": [],
   "source": [
    "#Importing the libraries\n",
    "import numpy as np\n",
    "import pandas as pd\n",
    "import datetime\n",
    "import matplotlib.pyplot as plt\n",
    "from sklearn.model_selection import train_test_split\n",
    "from sklearn.preprocessing import OneHotEncoder\n",
    "from sklearn.metrics import mean_absolute_error, r2_score , mean_squared_error"
   ]
  },
  {
   "cell_type": "code",
   "execution_count": 8,
   "id": "60d401cf-cc8d-48b1-bc92-109bfe60643d",
   "metadata": {},
   "outputs": [],
   "source": [
    "data = pd.read_csv(\"LA_Crime_dataset.csv\")"
   ]
  },
  {
   "cell_type": "code",
   "execution_count": 9,
   "id": "4d4b04f9-8122-4308-b143-caaa3ee17649",
   "metadata": {},
   "outputs": [
    {
     "data": {
      "text/plain": [
       "DR_NO                   0\n",
       "Date Rptd               0\n",
       "DATE OCC                0\n",
       "TIME OCC                0\n",
       "AREA                    0\n",
       "AREA NAME               0\n",
       "Rpt Dist No             0\n",
       "Part 1-2                0\n",
       "Crm Cd                  0\n",
       "Crm Cd Desc             0\n",
       "Mocodes            151619\n",
       "Vict Age                0\n",
       "Vict Sex           144644\n",
       "Vict Descent       144656\n",
       "Premis Cd              16\n",
       "Premis Desc           588\n",
       "Weapon Used Cd     677744\n",
       "Weapon Desc        677744\n",
       "Status                  1\n",
       "Status Desc             0\n",
       "Crm Cd 1               11\n",
       "Crm Cd 2           935831\n",
       "Crm Cd 3          1002677\n",
       "Crm Cd 4          1004927\n",
       "LOCATION                0\n",
       "Cross Street       850755\n",
       "LAT                     0\n",
       "LON                     0\n",
       "dtype: int64"
      ]
     },
     "execution_count": 9,
     "metadata": {},
     "output_type": "execute_result"
    }
   ],
   "source": [
    "data.isna().sum()"
   ]
  },
  {
   "cell_type": "code",
   "execution_count": 5,
   "id": "6c11b8e6-b59b-4a52-99fa-1ca69bf71b69",
   "metadata": {},
   "outputs": [
    {
     "data": {
      "text/html": [
       "<div>\n",
       "<style scoped>\n",
       "    .dataframe tbody tr th:only-of-type {\n",
       "        vertical-align: middle;\n",
       "    }\n",
       "\n",
       "    .dataframe tbody tr th {\n",
       "        vertical-align: top;\n",
       "    }\n",
       "\n",
       "    .dataframe thead th {\n",
       "        text-align: right;\n",
       "    }\n",
       "</style>\n",
       "<table border=\"1\" class=\"dataframe\">\n",
       "  <thead>\n",
       "    <tr style=\"text-align: right;\">\n",
       "      <th></th>\n",
       "      <th>AREA</th>\n",
       "      <th>AREA NAME</th>\n",
       "    </tr>\n",
       "  </thead>\n",
       "  <tbody>\n",
       "    <tr>\n",
       "      <th>0</th>\n",
       "      <td>15</td>\n",
       "      <td>N Hollywood</td>\n",
       "    </tr>\n",
       "    <tr>\n",
       "      <th>1</th>\n",
       "      <td>15</td>\n",
       "      <td>N Hollywood</td>\n",
       "    </tr>\n",
       "    <tr>\n",
       "      <th>2</th>\n",
       "      <td>9</td>\n",
       "      <td>Van Nuys</td>\n",
       "    </tr>\n",
       "    <tr>\n",
       "      <th>3</th>\n",
       "      <td>7</td>\n",
       "      <td>Wilshire</td>\n",
       "    </tr>\n",
       "    <tr>\n",
       "      <th>4</th>\n",
       "      <td>14</td>\n",
       "      <td>Pacific</td>\n",
       "    </tr>\n",
       "  </tbody>\n",
       "</table>\n",
       "</div>"
      ],
      "text/plain": [
       "   AREA    AREA NAME\n",
       "0    15  N Hollywood\n",
       "1    15  N Hollywood\n",
       "2     9     Van Nuys\n",
       "3     7     Wilshire\n",
       "4    14      Pacific"
      ]
     },
     "execution_count": 5,
     "metadata": {},
     "output_type": "execute_result"
    }
   ],
   "source": [
    "data[[\"AREA\",\"AREA NAME\"]].head()"
   ]
  },
  {
   "cell_type": "code",
   "execution_count": 10,
   "id": "691b29ce-a753-4360-8ff7-1e6ce1f91561",
   "metadata": {},
   "outputs": [
    {
     "data": {
      "text/plain": [
       "0          SINGLE FAMILY DWELLING\n",
       "1                        SIDEWALK\n",
       "2          SINGLE FAMILY DWELLING\n",
       "3                          STREET\n",
       "4                           ALLEY\n",
       "                    ...          \n",
       "1004986                    STREET\n",
       "1004987    SINGLE FAMILY DWELLING\n",
       "1004988                    STREET\n",
       "1004989               HIGH SCHOOL\n",
       "1004990               HIGH SCHOOL\n",
       "Name: Premis Desc, Length: 1004991, dtype: object"
      ]
     },
     "execution_count": 10,
     "metadata": {},
     "output_type": "execute_result"
    }
   ],
   "source": [
    "data[\"Premis Desc\"]"
   ]
  },
  {
   "cell_type": "code",
   "execution_count": null,
   "id": "38b25cde-15fb-4273-be43-e9645516aa02",
   "metadata": {},
   "outputs": [],
   "source": []
  }
 ],
 "metadata": {
  "kernelspec": {
   "display_name": "Python 3 (ipykernel)",
   "language": "python",
   "name": "python3"
  },
  "language_info": {
   "codemirror_mode": {
    "name": "ipython",
    "version": 3
   },
   "file_extension": ".py",
   "mimetype": "text/x-python",
   "name": "python",
   "nbconvert_exporter": "python",
   "pygments_lexer": "ipython3",
   "version": "3.10.18"
  }
 },
 "nbformat": 4,
 "nbformat_minor": 5
}
